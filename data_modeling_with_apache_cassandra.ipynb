{
 "cells": [
  {
   "cell_type": "markdown",
   "metadata": {
    "editable": true
   },
   "source": [
    "# Part I. ETL Pipeline for Pre-Processing the Files"
   ]
  },
  {
   "cell_type": "markdown",
   "metadata": {
    "editable": true
   },
   "source": [
    "## PLEASE RUN THE FOLLOWING CODE FOR PRE-PROCESSING THE FILES"
   ]
  },
  {
   "cell_type": "markdown",
   "metadata": {
    "editable": true
   },
   "source": [
    "#### Import Python packages "
   ]
  },
  {
   "cell_type": "code",
   "execution_count": 1,
   "metadata": {
    "editable": true
   },
   "outputs": [],
   "source": [
    "# Import Python packages \n",
    "import pandas as pd\n",
    "import cassandra\n",
    "import re\n",
    "import os\n",
    "import glob\n",
    "import numpy as np\n",
    "import json\n",
    "import csv"
   ]
  },
  {
   "cell_type": "markdown",
   "metadata": {
    "editable": true
   },
   "source": [
    "#### Creating list of filepaths to process original event csv data files"
   ]
  },
  {
   "cell_type": "code",
   "execution_count": 2,
   "metadata": {
    "editable": true
   },
   "outputs": [
    {
     "name": "stdout",
     "output_type": "stream",
     "text": [
      "/home/workspace\n"
     ]
    }
   ],
   "source": [
    "# checking your current working directory\n",
    "print(os.getcwd())\n",
    "\n",
    "# Get your current folder and subfolder event data\n",
    "filepath = os.getcwd() + '/event_data'\n",
    "\n",
    "# Create a for loop to create a list of files and collect each filepath\n",
    "for root, dirs, files in os.walk(filepath):\n",
    "    \n",
    "# join the file path and roots with the subdirectories using glob\n",
    "    file_path_list = glob.glob(os.path.join(root,'*'))\n",
    "    #print(file_path_list)"
   ]
  },
  {
   "cell_type": "markdown",
   "metadata": {
    "editable": true
   },
   "source": [
    "#### Processing the files to create the data file csv that will be used for Apache Casssandra tables"
   ]
  },
  {
   "cell_type": "code",
   "execution_count": 3,
   "metadata": {
    "editable": true
   },
   "outputs": [],
   "source": [
    "# initiating an empty list of rows that will be generated from each file\n",
    "full_data_rows_list = [] \n",
    "    \n",
    "# for every filepath in the file path list \n",
    "for f in file_path_list:\n",
    "\n",
    "# reading csv file \n",
    "    with open(f, 'r', encoding = 'utf8', newline='') as csvfile: \n",
    "        # creating a csv reader object \n",
    "        csvreader = csv.reader(csvfile) \n",
    "        next(csvreader)\n",
    "        \n",
    " # extracting each data row one by one and append it        \n",
    "        for line in csvreader:\n",
    "            #print(line)\n",
    "            full_data_rows_list.append(line) \n",
    "            \n",
    "# uncomment the code below if you would like to get total number of rows \n",
    "#print(len(full_data_rows_list))\n",
    "# uncomment the code below if you would like to check to see what the list of event data rows will look like\n",
    "#print(full_data_rows_list)\n",
    "\n",
    "# creating a smaller event data csv file called event_datafile_full csv that will be used to insert data into the \\\n",
    "# Apache Cassandra tables\n",
    "csv.register_dialect('myDialect', quoting=csv.QUOTE_ALL, skipinitialspace=True)\n",
    "\n",
    "with open('event_datafile_new.csv', 'w', encoding = 'utf8', newline='') as f:\n",
    "    writer = csv.writer(f, dialect='myDialect')\n",
    "    writer.writerow(['artist','firstName','gender','itemInSession','lastName','length',\\\n",
    "                'level','location','sessionId','song','userId'])\n",
    "    for row in full_data_rows_list:\n",
    "        if (row[0] == ''):\n",
    "            continue\n",
    "        writer.writerow((row[0], row[2], row[3], row[4], row[5], row[6], row[7], row[8], row[12], row[13], row[16]))\n"
   ]
  },
  {
   "cell_type": "code",
   "execution_count": 4,
   "metadata": {
    "editable": true
   },
   "outputs": [
    {
     "name": "stdout",
     "output_type": "stream",
     "text": [
      "6821\n"
     ]
    }
   ],
   "source": [
    "# check the number of rows in your csv file\n",
    "with open('event_datafile_new.csv', 'r', encoding = 'utf8') as f:\n",
    "    print(sum(1 for line in f))"
   ]
  },
  {
   "cell_type": "markdown",
   "metadata": {
    "editable": true
   },
   "source": [
    "# Part II. Complete the Apache Cassandra coding portion of your project. \n",
    "\n",
    "## Now you are ready to work with the CSV file titled <font color=red>event_datafile_new.csv</font>, located within the Workspace directory.  The event_datafile_new.csv contains the following columns: \n",
    "- artist \n",
    "- firstName of user\n",
    "- gender of user\n",
    "- item number in session\n",
    "- last name of user\n",
    "- length of the song\n",
    "- level (paid or free song)\n",
    "- location of the user\n",
    "- sessionId\n",
    "- song title\n",
    "- userId\n",
    "\n",
    "The image below is a screenshot of what the denormalized data should appear like in the <font color=red>**event_datafile_new.csv**</font> after the code above is run:<br>\n",
    "\n",
    "<img src=\"images/image_event_datafile_new.jpg\">"
   ]
  },
  {
   "cell_type": "markdown",
   "metadata": {
    "editable": true
   },
   "source": [
    "## Begin writing your Apache Cassandra code in the cells below"
   ]
  },
  {
   "cell_type": "markdown",
   "metadata": {
    "editable": true
   },
   "source": [
    "#### Creating a Cluster"
   ]
  },
  {
   "cell_type": "code",
   "execution_count": 5,
   "metadata": {
    "editable": true
   },
   "outputs": [],
   "source": [
    "# This should make a connection to a Cassandra instance your local machine \n",
    "# (127.0.0.1)\n",
    "\n",
    "from cassandra.cluster import Cluster\n",
    "cluster = Cluster()\n",
    "\n",
    "# To establish connection and begin executing queries, need a session\n",
    "session = cluster.connect()"
   ]
  },
  {
   "cell_type": "markdown",
   "metadata": {
    "editable": true
   },
   "source": [
    "#### Create Keyspace"
   ]
  },
  {
   "cell_type": "code",
   "execution_count": 6,
   "metadata": {
    "editable": true
   },
   "outputs": [
    {
     "data": {
      "text/plain": [
       "<cassandra.cluster.ResultSet at 0x7f0008c49208>"
      ]
     },
     "execution_count": 6,
     "metadata": {},
     "output_type": "execute_result"
    }
   ],
   "source": [
    "# Create Keyspace:\n",
    "\"\"\"\n",
    "The goal is to connect with a cassandra instance in the local machine so that we can write and execute queries later. For creating new keyspace, CREATE KEYSPACE IF NOT EXISTS keyspace_name WITH REPLICATION={'class':..., 'replication_factor':1} syntax is used. Most of the time, we just need simple strategy and 1 replication factor unless we need more copies of the data.\n",
    "\"\"\"\n",
    "session.execute(\"\"\"\n",
    "    CREATE KEYSPACE IF NOT EXISTS udacity\n",
    "    WITH REPLICATION = {\n",
    "        'class': 'SimpleStrategy',\n",
    "        'replication_factor': 1\n",
    "    }\n",
    "\"\"\")"
   ]
  },
  {
   "cell_type": "markdown",
   "metadata": {
    "editable": true
   },
   "source": [
    "#### Set Keyspace"
   ]
  },
  {
   "cell_type": "code",
   "execution_count": 7,
   "metadata": {
    "editable": true
   },
   "outputs": [],
   "source": [
    "# Keyspace setup:\n",
    "\"\"\"\n",
    "Settting up a KEYSPACE named as 'udacity' to the keyspace specified above.\n",
    "\"\"\"\n",
    "session.set_keyspace(keyspace='udacity')"
   ]
  },
  {
   "cell_type": "markdown",
   "metadata": {
    "editable": true
   },
   "source": [
    "### Now we need to create tables to run the following queries. Remember, with Apache Cassandra you model the database tables on the queries you want to run."
   ]
  },
  {
   "cell_type": "markdown",
   "metadata": {
    "editable": true
   },
   "source": [
    "## Create queries to ask three questions in the following."
   ]
  },
  {
   "cell_type": "markdown",
   "metadata": {
    "editable": true
   },
   "source": [
    "### **TASK I:**  \n",
    "A data table named as \"artist_song_session\" will be created here as we want to retrieve information about artist name, song title and length of song in the music app history that was heard during sessionId=338 and itemInSession=4."
   ]
  },
  {
   "cell_type": "code",
   "execution_count": 8,
   "metadata": {
    "editable": true
   },
   "outputs": [
    {
     "data": {
      "text/plain": [
       "<cassandra.cluster.ResultSet at 0x7f0008c49940>"
      ]
     },
     "execution_count": 8,
     "metadata": {},
     "output_type": "execute_result"
    }
   ],
   "source": [
    "# STEP I:\n",
    "# Create table artist_song_session for data retrieval later:\n",
    "\"\"\"\n",
    "For creating new tables, CREATE TABLE IF NOT EXISTS table_name is used.\n",
    "\"\"\"\n",
    "query1 = \"CREATE TABLE IF NOT EXISTS artist_song_session\"\n",
    "query1 = query1 + \"(sessionId int, itemInSession int, artist text, song text, length float, PRIMARY KEY(sessionId, itemInSession));\"\n",
    "session.execute(query=query1)                    "
   ]
  },
  {
   "cell_type": "code",
   "execution_count": 9,
   "metadata": {
    "editable": true
   },
   "outputs": [],
   "source": [
    "# STEP II:\n",
    "# Insert data into table artist_song_session:\n",
    "\"\"\"\n",
    "Firstly, CSV file is set up with variable named as \"file\". Then, use a csv.reader object to read the entire CSV file. Lastly, the for loop is iterating through each line in CSV file and insert the corresponding data (sessionId, itemInSession, artist, song, length) into table artist_song_session via SQL syntax INSERT INTO.\n",
    "\"\"\"\n",
    "file = 'event_datafile_new.csv'\n",
    "with open(file, encoding = 'utf8') as f:\n",
    "    csvreader = csv.reader(f)\n",
    "    next(csvreader) # skip header\n",
    "    for line in csvreader:\n",
    "        \n",
    "        ## TO-DO: Assign the INSERT statements into the `query` variable\n",
    "        query = \"INSERT INTO artist_song_session (sessionId, itemInSession, artist, song, length)\"\n",
    "        query = query + \"VALUES (%s, %s, %s, %s, %s);\"\n",
    "        \n",
    "        ## TO-DO: Assign which column element should be assigned for each column in the INSERT statement.\n",
    "        session.execute(query=query, parameters=(\n",
    "            int(line[8]), # session id is column 9\n",
    "            int(line[3]), # item in session is column 4\n",
    "            line[0], # artist is column 1\n",
    "            line[9], # song title is column 10\n",
    "            float(line[5]) # length is column 6\n",
    "            )\n",
    "        )"
   ]
  },
  {
   "cell_type": "code",
   "execution_count": 10,
   "metadata": {
    "editable": true,
    "scrolled": true
   },
   "outputs": [
    {
     "name": "stdout",
     "output_type": "stream",
     "text": [
      "Faithless Music Matters (Mark Knight Dub) 495.30731201171875\n"
     ]
    }
   ],
   "source": [
    "# STEP III:\n",
    "# Verify that the INSERT INTO SQL syntax from above is working correctly\n",
    "\"\"\"\n",
    "Checking that data was entered into the table artist_song_session without errors. In order to do so, here I use SELECT statement to retrieve the record when session id is 338 and itemInSession is 4\n",
    "\"\"\"\n",
    "query_select = \"SELECT artist, song, length FROM artist_song_session WHERE sessionId=338 AND itemInSession=4;\"\n",
    "rows = session.execute(query_select)\n",
    "for row in rows:\n",
    "    print(row.artist, row.song, row.length)"
   ]
  },
  {
   "cell_type": "markdown",
   "metadata": {
    "editable": true
   },
   "source": [
    "### **TASK II:**  \n",
    "A data table named as \"artist_song_user\" will be created here as we want to know only the artist name, song title and user name in the music app history that was heard during sessionId=182 and with userId=10, so that we can know the group of users who heard this song with a specific artist."
   ]
  },
  {
   "cell_type": "code",
   "execution_count": 11,
   "metadata": {
    "editable": true
   },
   "outputs": [
    {
     "data": {
      "text/plain": [
       "<cassandra.cluster.ResultSet at 0x7f0008c359b0>"
      ]
     },
     "execution_count": 11,
     "metadata": {},
     "output_type": "execute_result"
    }
   ],
   "source": [
    "# STEP I:\n",
    "# Create table artist_song_user for data retrieval later:\n",
    "\"\"\"\n",
    "For creating new tables, CREATE TABLE IF NOT EXISTS table_name is used.\n",
    "\"\"\"\n",
    "query2 = \"CREATE TABLE IF NOT EXISTS artist_song_user\"\n",
    "query2 = query2 + \"(userId int, sessionId int, itemInSession int, artist text, song text, firstName text, lastName text, PRIMARY KEY((userId, sessionId), itemInSession));\"\n",
    "session.execute(query2)"
   ]
  },
  {
   "cell_type": "code",
   "execution_count": 12,
   "metadata": {
    "editable": true
   },
   "outputs": [],
   "source": [
    "# STEP II:\n",
    "# Insert data into table artist_song_user:\n",
    "\"\"\"\n",
    "Same with the previous one, a csv.reader object is used here to read through the entire CSV file. Then, the for loop is iterating through each line in CSV file and insert the corresponding data (userId, itemInSession, artist, song, firstName, lastName) into table artist_song_user via SQL syntax INSERT INTO.\n",
    "\"\"\"\n",
    "file = 'event_datafile_new.csv'\n",
    "with open(file, encoding = 'utf8') as f:\n",
    "    csvreader = csv.reader(f)\n",
    "    next(csvreader) # skip header\n",
    "    for line in csvreader:\n",
    "        \n",
    "        ## TO-DO: Assign the INSERT statements into the `query` variable\n",
    "        query = \"INSERT INTO artist_song_user (userId, sessionId, itemInSession, artist, song, firstName, lastName)\"\n",
    "        query = query + \"VALUES (%s, %s, %s, %s, %s, %s, %s);\"\n",
    "        \n",
    "        ## TO-DO: Assign which column element should be assigned for each column in the INSERT statement.\n",
    "        session.execute(query=query, parameters=(\n",
    "            int(line[10]), # user id is column 11\n",
    "            int(line[8]), # session id is column 9\n",
    "            int(line[3]), # item in session is column 4\n",
    "            line[0], # artist is column 3\n",
    "            line[9], # song title is column 10\n",
    "            line[1], # first name is column 2\n",
    "            line[4] # last name is column 5\n",
    "            )\n",
    "        )"
   ]
  },
  {
   "cell_type": "code",
   "execution_count": 13,
   "metadata": {
    "editable": true
   },
   "outputs": [
    {
     "name": "stdout",
     "output_type": "stream",
     "text": [
      "Artist: Down To The Bone, Song: Keep On Keepin' On, First Name: Sylvie, Last Name: Cruz\n",
      "\n",
      "Artist: Three Drives, Song: Greece 2000, First Name: Sylvie, Last Name: Cruz\n",
      "\n",
      "Artist: Sebastien Tellier, Song: Kilometer, First Name: Sylvie, Last Name: Cruz\n",
      "\n",
      "Artist: Lonnie Gordon, Song: Catch You Baby (Steve Pitron & Max Sanna Radio Edit), First Name: Sylvie, Last Name: Cruz\n",
      "\n"
     ]
    }
   ],
   "source": [
    "# STEP III:\n",
    "# Verify that the INSERT INTO SQL syntax from above is working correctly\n",
    "\"\"\"\n",
    "The script here is to make sure that data was inserted into the table artist_song_user without errors by using SELECT statement to check the record with session id is 182 and user id is 10.\n",
    "\"\"\"\n",
    "query_select_2 = \"SELECT artist, song, firstName, lastName FROM artist_song_user WHERE userId=10 AND sessionId=182;\"\n",
    "rows = session.execute(query=query_select_2)\n",
    "for row in rows:\n",
    "    print(f\"Artist: {row.artist}, Song: {row.song}, First Name: {row.firstname}, Last Name: {row.lastname}\\n\")"
   ]
  },
  {
   "cell_type": "markdown",
   "metadata": {
    "editable": true
   },
   "source": [
    "### **TASK III:**  \n",
    "A data table named as \"user_song\" will be created here as we want to know both first name and last name for all users who listened to the song 'All Hands Against His Own'."
   ]
  },
  {
   "cell_type": "code",
   "execution_count": 14,
   "metadata": {
    "editable": true
   },
   "outputs": [
    {
     "data": {
      "text/plain": [
       "<cassandra.cluster.ResultSet at 0x7f0008c87e80>"
      ]
     },
     "execution_count": 14,
     "metadata": {},
     "output_type": "execute_result"
    }
   ],
   "source": [
    "# STEP I:\n",
    "# Create table user_song for data retrieval later:\n",
    "\"\"\"\n",
    "SQL syntax `CREATE TABLE IF NOT EXISTS table_name` is used here to create a new table named as user_song. Besides, features we want to keep track on are song title, user id, first name and last name.\n",
    "\"\"\"\n",
    "query3 = \"CREATE TABLE IF NOT EXISTS user_song \"\n",
    "query3 = query3 + \"(song text, userId int, firstName text, lastName text, PRIMARY KEY (song, userId));\"\n",
    "session.execute(query=query3)"
   ]
  },
  {
   "cell_type": "code",
   "execution_count": 15,
   "metadata": {
    "editable": true
   },
   "outputs": [],
   "source": [
    "# STEP II:\n",
    "# Insert data into table user_song:\n",
    "\"\"\"\n",
    "Here, the csv.reader object is used here to read through the entire CSV file. Then, the for loop is iterating through each line in CSV file and insert the corresponding data (song, userId, firstName, lastName) into table user_song via SQL syntax INSERT INTO.\n",
    "\"\"\"\n",
    "file = 'event_datafile_new.csv'\n",
    "with open(file, encoding = 'utf8') as f:\n",
    "    csvreader = csv.reader(f)\n",
    "    next(csvreader)\n",
    "    for line in csvreader:\n",
    "        query = \"INSERT INTO user_song (song, userId, firstName, lastName)\"\n",
    "        query = query + \"VALUES (%s, %s, %s, %s);\"\n",
    "        session.execute(query=query, parameters=(\n",
    "            line[9], # song title is column 10\n",
    "            int(line[10]), # user id is column 11\n",
    "            line[1], # first name is column 2\n",
    "            line[4] # last name is column 5\n",
    "            )\n",
    "        )"
   ]
  },
  {
   "cell_type": "code",
   "execution_count": 16,
   "metadata": {
    "editable": true
   },
   "outputs": [
    {
     "name": "stdout",
     "output_type": "stream",
     "text": [
      "Jacqueline Lynch\n",
      "Tegan Levine\n",
      "Sara Johnson\n"
     ]
    }
   ],
   "source": [
    "# STEP III:\n",
    "# Verify that the INSERT INTO SQL syntax from above is working correctly\n",
    "\"\"\"\n",
    "The script here is to make sure that data was inserted into the table user_song without errors by using SELECT statement to check the record with the song name 'All Hands Against His Own'.\n",
    "\"\"\"\n",
    "query_select_3 = \"SELECT firstName, lastName FROM user_song WHERE song='All Hands Against His Own';\"\n",
    "rows = session.execute(query=query_select_3)\n",
    "for row in rows:\n",
    "    print(row.firstname, row.lastname)"
   ]
  },
  {
   "cell_type": "markdown",
   "metadata": {
    "editable": true
   },
   "source": [
    "### Drop the tables before closing out the sessions"
   ]
  },
  {
   "cell_type": "code",
   "execution_count": 17,
   "metadata": {
    "editable": true
   },
   "outputs": [
    {
     "data": {
      "text/plain": [
       "<cassandra.cluster.ResultSet at 0x7f0008c3d4e0>"
      ]
     },
     "execution_count": 17,
     "metadata": {},
     "output_type": "execute_result"
    }
   ],
   "source": [
    "# Before closing all sessions, we need to drop all tables we've created, so here DROP TABLE syntax is used to do so.\n",
    "session.execute(\"DROP TABLE artist_song_session\")\n",
    "session.execute(\"DROP TABLE artist_song_user\")\n",
    "session.execute(\"DROP TABLE user_song\")"
   ]
  },
  {
   "cell_type": "markdown",
   "metadata": {
    "editable": true
   },
   "source": [
    "### Close the session and cluster connection¶"
   ]
  },
  {
   "cell_type": "code",
   "execution_count": 18,
   "metadata": {
    "editable": true
   },
   "outputs": [],
   "source": [
    "session.shutdown()\n",
    "cluster.shutdown()"
   ]
  }
 ],
 "metadata": {
  "kernelspec": {
   "display_name": "Python 3",
   "language": "python",
   "name": "python3"
  },
  "language_info": {
   "codemirror_mode": {
    "name": "ipython",
    "version": 3
   },
   "file_extension": ".py",
   "mimetype": "text/x-python",
   "name": "python",
   "nbconvert_exporter": "python",
   "pygments_lexer": "ipython3",
   "version": "3.6.3"
  }
 },
 "nbformat": 4,
 "nbformat_minor": 4
}
